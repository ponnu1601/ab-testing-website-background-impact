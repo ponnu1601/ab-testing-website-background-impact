{
 "cells": [
  {
   "cell_type": "markdown",
   "id": "60521e2b",
   "metadata": {},
   "source": [
    "# A/B Testing Analysis: Website Background Color Impact "
   ]
  },
  {
   "cell_type": "markdown",
   "id": "9ac66540",
   "metadata": {},
   "source": [
    "## 1. Project Overview"
   ]
  },
  {
   "cell_type": "markdown",
   "id": "54157768",
   "metadata": {},
   "source": [
    "**Background**\n",
    "\n",
    "This project analyzes the effectiveness of website background color changes on user engagement and conversion rates for a UK-based retail website. The company is considering switching from their current white background (default) to a black background to potentially improve user experience and business outcomes.\n",
    "\n",
    "**Business Problem**\n",
    "\n",
    "The retail company wants to answer the critical question: **\"Do people spend more time and engage better with a website when the background color is black versus white?\"** This decision could significantly impact user engagement, conversion rates, and ultimately revenue.\n",
    "\n",
    "**A/B Testing Scenario**\n",
    "\n",
    "- **Control Group (A)**: Users experiencing the current white background\n",
    "- **Treatment Group (B)**: Users experiencing the proposed black background\n",
    "- **Primary Objective**: Determine if the black background leads to statistically significant improvements in key metrics\n",
    "\n",
    "**Dataset Description**\n",
    "\n",
    "The analysis uses a synthetic dataset containing user interaction data from visitors across the United Kingdom, including:\n",
    "- **User ID**: Unique identifier for each user\n",
    "- **Group**: Control (A) vs Treatment (B) assignment\n",
    "- **Page Views**: Number of pages viewed per session\n",
    "- **Time Spent**: Total session duration in seconds\n",
    "- **Conversion**: Whether user completed desired action (Yes/No)\n",
    "- **Device**: Device type used (Mobile, Desktop, Tablet)\n",
    "- **Location**: User's location within the UK\n",
    "\n",
    "**Data Source**: \n",
    "- **Dataset**: A/B Testing Practice Dataset\n",
    "- **Source**: [Kaggle](https://www.kaggle.com/datasets/adarsh0806/ab-testing-practice)\n",
    "- **Sample Size**: 5,000 users\n",
    "- **Type**: Synthetic dataset created for A/B testing practice and demonstration\n",
    "\n",
    "**Key Metrics to Evaluate**\n",
    "\n",
    "1. **Primary Metric**: Conversion Rate (business impact)\n",
    "2. **Secondary Metrics**: \n",
    "- Time Spent on site (engagement)\n",
    "- Page Views per session (user interest)\n",
    "3. **Segmentation Analysis**: Performance across different devices and locations\n",
    "\n",
    "**Expected Outcomes**\n",
    "\n",
    "This analysis will provide data-driven recommendations on whether to implement the black background across the website, backed by statistical evidence and business impact assessment."
   ]
  },
  {
   "cell_type": "markdown",
   "id": "e2122609",
   "metadata": {},
   "source": [
    "## 2. Setup"
   ]
  },
  {
   "cell_type": "markdown",
   "id": "9f9a5469",
   "metadata": {},
   "source": [
    "### 2.1 Import Libraries"
   ]
  },
  {
   "cell_type": "code",
   "execution_count": 1,
   "id": "6183014f",
   "metadata": {},
   "outputs": [],
   "source": [
    "import pandas as pd\n",
    "import numpy as np\n",
    "import matplotlib.pyplot as plt\n",
    "import seaborn as sns\n",
    "from scipy import stats\n",
    "from scipy.stats import chi2_contingency, ttest_ind, shapiro, levene, mannwhitneyu\n",
    "from statsmodels.stats.proportion import proportion_confint\n",
    "from statsmodels.stats.proportion import proportions_ztest\n",
    "import warnings\n",
    "warnings.filterwarnings('ignore')"
   ]
  },
  {
   "cell_type": "markdown",
   "id": "ced13515",
   "metadata": {},
   "source": [
    "### 2.2 Load data"
   ]
  },
  {
   "cell_type": "code",
   "execution_count": 2,
   "id": "06ada304",
   "metadata": {},
   "outputs": [
    {
     "data": {
      "text/html": [
       "<div>\n",
       "<style scoped>\n",
       "    .dataframe tbody tr th:only-of-type {\n",
       "        vertical-align: middle;\n",
       "    }\n",
       "\n",
       "    .dataframe tbody tr th {\n",
       "        vertical-align: top;\n",
       "    }\n",
       "\n",
       "    .dataframe thead th {\n",
       "        text-align: right;\n",
       "    }\n",
       "</style>\n",
       "<table border=\"1\" class=\"dataframe\">\n",
       "  <thead>\n",
       "    <tr style=\"text-align: right;\">\n",
       "      <th></th>\n",
       "      <th>User ID</th>\n",
       "      <th>Group</th>\n",
       "      <th>Page Views</th>\n",
       "      <th>Time Spent</th>\n",
       "      <th>Conversion</th>\n",
       "      <th>Device</th>\n",
       "      <th>Location</th>\n",
       "    </tr>\n",
       "  </thead>\n",
       "  <tbody>\n",
       "    <tr>\n",
       "      <th>0</th>\n",
       "      <td>14292</td>\n",
       "      <td>B</td>\n",
       "      <td>3</td>\n",
       "      <td>424</td>\n",
       "      <td>No</td>\n",
       "      <td>Mobile</td>\n",
       "      <td>Northern Ireland</td>\n",
       "    </tr>\n",
       "    <tr>\n",
       "      <th>1</th>\n",
       "      <td>11682</td>\n",
       "      <td>A</td>\n",
       "      <td>9</td>\n",
       "      <td>342</td>\n",
       "      <td>No</td>\n",
       "      <td>Mobile</td>\n",
       "      <td>Scotland</td>\n",
       "    </tr>\n",
       "    <tr>\n",
       "      <th>2</th>\n",
       "      <td>19825</td>\n",
       "      <td>A</td>\n",
       "      <td>2</td>\n",
       "      <td>396</td>\n",
       "      <td>No</td>\n",
       "      <td>Desktop</td>\n",
       "      <td>Northern Ireland</td>\n",
       "    </tr>\n",
       "    <tr>\n",
       "      <th>3</th>\n",
       "      <td>16080</td>\n",
       "      <td>B</td>\n",
       "      <td>4</td>\n",
       "      <td>318</td>\n",
       "      <td>No</td>\n",
       "      <td>Desktop</td>\n",
       "      <td>Wales</td>\n",
       "    </tr>\n",
       "    <tr>\n",
       "      <th>4</th>\n",
       "      <td>18851</td>\n",
       "      <td>A</td>\n",
       "      <td>1</td>\n",
       "      <td>338</td>\n",
       "      <td>Yes</td>\n",
       "      <td>Desktop</td>\n",
       "      <td>Scotland</td>\n",
       "    </tr>\n",
       "  </tbody>\n",
       "</table>\n",
       "</div>"
      ],
      "text/plain": [
       "   User ID Group  Page Views  Time Spent Conversion   Device          Location\n",
       "0    14292     B           3         424         No   Mobile  Northern Ireland\n",
       "1    11682     A           9         342         No   Mobile          Scotland\n",
       "2    19825     A           2         396         No  Desktop  Northern Ireland\n",
       "3    16080     B           4         318         No  Desktop             Wales\n",
       "4    18851     A           1         338        Yes  Desktop          Scotland"
      ]
     },
     "execution_count": 2,
     "metadata": {},
     "output_type": "execute_result"
    }
   ],
   "source": [
    "#Load the dataset\n",
    "df = pd.read_csv('ab_testing.csv')\n",
    "\n",
    "# First few rows\n",
    "df.head()"
   ]
  },
  {
   "cell_type": "markdown",
   "id": "fa106f52",
   "metadata": {},
   "source": [
    "## 3. Data Exploration"
   ]
  },
  {
   "cell_type": "markdown",
   "id": "8f99477b",
   "metadata": {},
   "source": [
    "### 3.1 Dataset Overview"
   ]
  },
  {
   "cell_type": "code",
   "execution_count": 3,
   "id": "5f70fd46",
   "metadata": {},
   "outputs": [
    {
     "name": "stdout",
     "output_type": "stream",
     "text": [
      "Shape of the dataset : (5000, 7)\n",
      "Number of Rows : 5000\n",
      "Number of columns : 7\n"
     ]
    }
   ],
   "source": [
    "# Dataset shape and basic info\n",
    "print(f\"Shape of the dataset : {df.shape}\")\n",
    "print(f\"Number of Rows : {df.shape[0]}\")\n",
    "print(f\"Number of columns : {df.shape[1]}\")"
   ]
  },
  {
   "cell_type": "code",
   "execution_count": 4,
   "id": "ad98d43c",
   "metadata": {},
   "outputs": [
    {
     "name": "stdout",
     "output_type": "stream",
     "text": [
      "<class 'pandas.core.frame.DataFrame'>\n",
      "RangeIndex: 5000 entries, 0 to 4999\n",
      "Data columns (total 7 columns):\n",
      " #   Column      Non-Null Count  Dtype \n",
      "---  ------      --------------  ----- \n",
      " 0   User ID     5000 non-null   int64 \n",
      " 1   Group       5000 non-null   object\n",
      " 2   Page Views  5000 non-null   int64 \n",
      " 3   Time Spent  5000 non-null   int64 \n",
      " 4   Conversion  5000 non-null   object\n",
      " 5   Device      5000 non-null   object\n",
      " 6   Location    5000 non-null   object\n",
      "dtypes: int64(3), object(4)\n",
      "memory usage: 273.6+ KB\n"
     ]
    }
   ],
   "source": [
    "# Column information and data types\n",
    "df.info()"
   ]
  },
  {
   "cell_type": "code",
   "execution_count": 5,
   "id": "d2d97ce2",
   "metadata": {},
   "outputs": [
    {
     "data": {
      "text/html": [
       "<div>\n",
       "<style scoped>\n",
       "    .dataframe tbody tr th:only-of-type {\n",
       "        vertical-align: middle;\n",
       "    }\n",
       "\n",
       "    .dataframe tbody tr th {\n",
       "        vertical-align: top;\n",
       "    }\n",
       "\n",
       "    .dataframe thead th {\n",
       "        text-align: right;\n",
       "    }\n",
       "</style>\n",
       "<table border=\"1\" class=\"dataframe\">\n",
       "  <thead>\n",
       "    <tr style=\"text-align: right;\">\n",
       "      <th></th>\n",
       "      <th>User ID</th>\n",
       "      <th>Page Views</th>\n",
       "      <th>Time Spent</th>\n",
       "    </tr>\n",
       "  </thead>\n",
       "  <tbody>\n",
       "    <tr>\n",
       "      <th>count</th>\n",
       "      <td>5000.000000</td>\n",
       "      <td>5000.000000</td>\n",
       "      <td>5000.000000</td>\n",
       "    </tr>\n",
       "    <tr>\n",
       "      <th>mean</th>\n",
       "      <td>14925.159000</td>\n",
       "      <td>7.537600</td>\n",
       "      <td>242.512600</td>\n",
       "    </tr>\n",
       "    <tr>\n",
       "      <th>std</th>\n",
       "      <td>2869.153773</td>\n",
       "      <td>4.022465</td>\n",
       "      <td>118.254153</td>\n",
       "    </tr>\n",
       "    <tr>\n",
       "      <th>min</th>\n",
       "      <td>10001.000000</td>\n",
       "      <td>1.000000</td>\n",
       "      <td>40.000000</td>\n",
       "    </tr>\n",
       "    <tr>\n",
       "      <th>25%</th>\n",
       "      <td>12456.250000</td>\n",
       "      <td>4.000000</td>\n",
       "      <td>137.000000</td>\n",
       "    </tr>\n",
       "    <tr>\n",
       "      <th>50%</th>\n",
       "      <td>14858.500000</td>\n",
       "      <td>8.000000</td>\n",
       "      <td>243.000000</td>\n",
       "    </tr>\n",
       "    <tr>\n",
       "      <th>75%</th>\n",
       "      <td>17379.750000</td>\n",
       "      <td>11.000000</td>\n",
       "      <td>346.000000</td>\n",
       "    </tr>\n",
       "    <tr>\n",
       "      <th>max</th>\n",
       "      <td>19995.000000</td>\n",
       "      <td>14.000000</td>\n",
       "      <td>449.000000</td>\n",
       "    </tr>\n",
       "  </tbody>\n",
       "</table>\n",
       "</div>"
      ],
      "text/plain": [
       "            User ID   Page Views   Time Spent\n",
       "count   5000.000000  5000.000000  5000.000000\n",
       "mean   14925.159000     7.537600   242.512600\n",
       "std     2869.153773     4.022465   118.254153\n",
       "min    10001.000000     1.000000    40.000000\n",
       "25%    12456.250000     4.000000   137.000000\n",
       "50%    14858.500000     8.000000   243.000000\n",
       "75%    17379.750000    11.000000   346.000000\n",
       "max    19995.000000    14.000000   449.000000"
      ]
     },
     "execution_count": 5,
     "metadata": {},
     "output_type": "execute_result"
    }
   ],
   "source": [
    "# Descriptive statistics for numerical columns\n",
    "df.describe()"
   ]
  },
  {
   "cell_type": "code",
   "execution_count": 6,
   "id": "b2725b03",
   "metadata": {},
   "outputs": [
    {
     "name": "stdout",
     "output_type": "stream",
     "text": [
      "\n",
      "Group:\n",
      "Unique values : ['B' 'A']\n",
      "Value counts : Group\n",
      "A    2519\n",
      "B    2481\n",
      "Name: count, dtype: int64\n",
      "\n",
      "Conversion:\n",
      "Unique values : ['No' 'Yes']\n",
      "Value counts : Conversion\n",
      "No     4515\n",
      "Yes     485\n",
      "Name: count, dtype: int64\n",
      "\n",
      "Device:\n",
      "Unique values : ['Mobile' 'Desktop']\n",
      "Value counts : Device\n",
      "Desktop    2538\n",
      "Mobile     2462\n",
      "Name: count, dtype: int64\n",
      "\n",
      "Location:\n",
      "Unique values : ['Northern Ireland' 'Scotland' 'Wales' 'England']\n",
      "Value counts : Location\n",
      "Scotland            1281\n",
      "England             1246\n",
      "Northern Ireland    1242\n",
      "Wales               1231\n",
      "Name: count, dtype: int64\n"
     ]
    }
   ],
   "source": [
    "# Check unique values in categorical columns\n",
    "categorical_cols = ['Group', 'Conversion', 'Device', 'Location']\n",
    "for col in categorical_cols:\n",
    "    print(f\"\\n{col}:\")\n",
    "    print(f\"Unique values : {df[col].unique()}\")\n",
    "    print(f\"Value counts : {df[col].value_counts()}\")"
   ]
  },
  {
   "cell_type": "markdown",
   "id": "dc0553d5",
   "metadata": {},
   "source": [
    "### 3.2 Data Quality Assessment"
   ]
  },
  {
   "cell_type": "code",
   "execution_count": 7,
   "id": "256f8e85",
   "metadata": {},
   "outputs": [
    {
     "data": {
      "text/plain": [
       "User ID       0\n",
       "Group         0\n",
       "Page Views    0\n",
       "Time Spent    0\n",
       "Conversion    0\n",
       "Device        0\n",
       "Location      0\n",
       "dtype: int64"
      ]
     },
     "execution_count": 7,
     "metadata": {},
     "output_type": "execute_result"
    }
   ],
   "source": [
    "# Check for missing values\n",
    "df.isnull().sum()"
   ]
  },
  {
   "cell_type": "code",
   "execution_count": 8,
   "id": "b4d28729",
   "metadata": {},
   "outputs": [
    {
     "name": "stdout",
     "output_type": "stream",
     "text": [
      "Duplicate User ID's : 0\n"
     ]
    }
   ],
   "source": [
    "# Check for duplicate user id's\n",
    "print(f\"Duplicate User ID's : {df['User ID'].duplicated().sum()}\")"
   ]
  },
  {
   "cell_type": "code",
   "execution_count": 9,
   "id": "2e7be879",
   "metadata": {},
   "outputs": [
    {
     "name": "stdout",
     "output_type": "stream",
     "text": [
      "Page Views : Min - 1, Max - 14\n",
      "Time spent : Min - 40, Max - 449\n"
     ]
    }
   ],
   "source": [
    "# Check data ranges for any anomalies\n",
    "print(f\"Page Views : Min - {df['Page Views'].min()}, Max - {df['Page Views'].max()}\")\n",
    "print(f\"Time spent : Min - {df['Time Spent'].min()}, Max - {df['Time Spent'].max()}\")"
   ]
  },
  {
   "cell_type": "code",
   "execution_count": 10,
   "id": "7451de13",
   "metadata": {},
   "outputs": [],
   "source": [
    "# Using IQR method for outlier detection\n",
    "def detect_outliers_iqr(data, column):\n",
    "    Q1 = data[column].quantile(0.25)\n",
    "    Q3 = data[column].quantile(0.75)\n",
    "    IQR = Q3 - Q1\n",
    "    lower_bound = Q1 - 1.5 * IQR\n",
    "    upper_bound = Q3 + 1.5 * IQR\n",
    "    outliers = data[(data[column] < lower_bound) | (data[column] > upper_bound)]\n",
    "    return outliers, lower_bound, upper_bound"
   ]
  },
  {
   "cell_type": "code",
   "execution_count": 11,
   "id": "72a9bce5",
   "metadata": {},
   "outputs": [
    {
     "name": "stdout",
     "output_type": "stream",
     "text": [
      "Page Views outliers: 0 (0.0%)\n",
      "Expected range: -6.5 to 21.5\n"
     ]
    }
   ],
   "source": [
    "# Check outliers in Page Views\n",
    "pv_outliers, pv_lower, pv_upper = detect_outliers_iqr(df, 'Page Views')\n",
    "print(f\"Page Views outliers: {len(pv_outliers)} ({len(pv_outliers)/len(df)*100:.1f}%)\")\n",
    "print(f\"Expected range: {pv_lower:.1f} to {pv_upper:.1f}\")"
   ]
  },
  {
   "cell_type": "code",
   "execution_count": 12,
   "id": "cb4c6725",
   "metadata": {},
   "outputs": [
    {
     "name": "stdout",
     "output_type": "stream",
     "text": [
      "Time Spent outliers: 0 (0.0%)\n",
      "Expected range: -176.5 to 659.5 seconds\n"
     ]
    }
   ],
   "source": [
    "# Check outliers in Time Spent\n",
    "ts_outliers, ts_lower, ts_upper = detect_outliers_iqr(df, 'Time Spent')\n",
    "print(f\"Time Spent outliers: {len(ts_outliers)} ({len(ts_outliers)/len(df)*100:.1f}%)\")\n",
    "print(f\"Expected range: {ts_lower:.1f} to {ts_upper:.1f} seconds\")"
   ]
  },
  {
   "cell_type": "markdown",
   "id": "53b9b332",
   "metadata": {},
   "source": [
    "### 3.3 Group Distribution Analysis"
   ]
  },
  {
   "cell_type": "code",
   "execution_count": 13,
   "id": "26e88d52",
   "metadata": {},
   "outputs": [
    {
     "name": "stdout",
     "output_type": "stream",
     "text": [
      "Group\n",
      "A    2519\n",
      "B    2481\n",
      "Name: count, dtype: int64\n",
      "\n",
      "\n",
      "Group\n",
      "A    0.5038\n",
      "B    0.4962\n",
      "Name: proportion, dtype: float64\n"
     ]
    }
   ],
   "source": [
    "# Overall group distribution\n",
    "print(df['Group'].value_counts())\n",
    "print('\\n')\n",
    "print(df['Group'].value_counts(normalize=True))"
   ]
  },
  {
   "cell_type": "code",
   "execution_count": 14,
   "id": "6afaa371",
   "metadata": {},
   "outputs": [
    {
     "name": "stdout",
     "output_type": "stream",
     "text": [
      "Group Distribution by Device:\n"
     ]
    },
    {
     "data": {
      "text/html": [
       "<div>\n",
       "<style scoped>\n",
       "    .dataframe tbody tr th:only-of-type {\n",
       "        vertical-align: middle;\n",
       "    }\n",
       "\n",
       "    .dataframe tbody tr th {\n",
       "        vertical-align: top;\n",
       "    }\n",
       "\n",
       "    .dataframe thead th {\n",
       "        text-align: right;\n",
       "    }\n",
       "</style>\n",
       "<table border=\"1\" class=\"dataframe\">\n",
       "  <thead>\n",
       "    <tr style=\"text-align: right;\">\n",
       "      <th>Group</th>\n",
       "      <th>A</th>\n",
       "      <th>B</th>\n",
       "    </tr>\n",
       "    <tr>\n",
       "      <th>Device</th>\n",
       "      <th></th>\n",
       "      <th></th>\n",
       "    </tr>\n",
       "  </thead>\n",
       "  <tbody>\n",
       "    <tr>\n",
       "      <th>Desktop</th>\n",
       "      <td>0.490150</td>\n",
       "      <td>0.509850</td>\n",
       "    </tr>\n",
       "    <tr>\n",
       "      <th>Mobile</th>\n",
       "      <td>0.517872</td>\n",
       "      <td>0.482128</td>\n",
       "    </tr>\n",
       "  </tbody>\n",
       "</table>\n",
       "</div>"
      ],
      "text/plain": [
       "Group           A         B\n",
       "Device                     \n",
       "Desktop  0.490150  0.509850\n",
       "Mobile   0.517872  0.482128"
      ]
     },
     "execution_count": 14,
     "metadata": {},
     "output_type": "execute_result"
    }
   ],
   "source": [
    "# Check if groups are balanced across Device types\n",
    "print(\"Group Distribution by Device:\")\n",
    "device_group = pd.crosstab(df['Device'], df['Group'], normalize='index')\n",
    "device_group"
   ]
  },
  {
   "cell_type": "code",
   "execution_count": 15,
   "id": "8e9b4b90",
   "metadata": {},
   "outputs": [
    {
     "name": "stdout",
     "output_type": "stream",
     "text": [
      "Group Distribution by Location:\n"
     ]
    },
    {
     "data": {
      "text/html": [
       "<div>\n",
       "<style scoped>\n",
       "    .dataframe tbody tr th:only-of-type {\n",
       "        vertical-align: middle;\n",
       "    }\n",
       "\n",
       "    .dataframe tbody tr th {\n",
       "        vertical-align: top;\n",
       "    }\n",
       "\n",
       "    .dataframe thead th {\n",
       "        text-align: right;\n",
       "    }\n",
       "</style>\n",
       "<table border=\"1\" class=\"dataframe\">\n",
       "  <thead>\n",
       "    <tr style=\"text-align: right;\">\n",
       "      <th>Group</th>\n",
       "      <th>A</th>\n",
       "      <th>B</th>\n",
       "    </tr>\n",
       "    <tr>\n",
       "      <th>Location</th>\n",
       "      <th></th>\n",
       "      <th></th>\n",
       "    </tr>\n",
       "  </thead>\n",
       "  <tbody>\n",
       "    <tr>\n",
       "      <th>England</th>\n",
       "      <td>0.486356</td>\n",
       "      <td>0.513644</td>\n",
       "    </tr>\n",
       "    <tr>\n",
       "      <th>Northern Ireland</th>\n",
       "      <td>0.494364</td>\n",
       "      <td>0.505636</td>\n",
       "    </tr>\n",
       "    <tr>\n",
       "      <th>Scotland</th>\n",
       "      <td>0.523029</td>\n",
       "      <td>0.476971</td>\n",
       "    </tr>\n",
       "    <tr>\n",
       "      <th>Wales</th>\n",
       "      <td>0.510967</td>\n",
       "      <td>0.489033</td>\n",
       "    </tr>\n",
       "  </tbody>\n",
       "</table>\n",
       "</div>"
      ],
      "text/plain": [
       "Group                    A         B\n",
       "Location                            \n",
       "England           0.486356  0.513644\n",
       "Northern Ireland  0.494364  0.505636\n",
       "Scotland          0.523029  0.476971\n",
       "Wales             0.510967  0.489033"
      ]
     },
     "execution_count": 15,
     "metadata": {},
     "output_type": "execute_result"
    }
   ],
   "source": [
    "# Check if groups are balanced across Locations\n",
    "print(\"Group Distribution by Location:\")\n",
    "location_group = pd.crosstab(df['Location'], df['Group'], normalize='index')\n",
    "location_group"
   ]
  },
  {
   "cell_type": "markdown",
   "id": "54affab6",
   "metadata": {},
   "source": [
    "### 3.4 Target Variable Distribution Analysis"
   ]
  },
  {
   "cell_type": "code",
   "execution_count": 16,
   "id": "7e23b522",
   "metadata": {
    "scrolled": false
   },
   "outputs": [
    {
     "name": "stdout",
     "output_type": "stream",
     "text": [
      "\n",
      "Page Views:\n",
      "count    5000.000000\n",
      "mean        7.537600\n",
      "std         4.022465\n",
      "min         1.000000\n",
      "25%         4.000000\n",
      "50%         8.000000\n",
      "75%        11.000000\n",
      "max        14.000000\n",
      "Name: Page Views, dtype: float64\n",
      "\n",
      "Time Spent:\n",
      "count    5000.000000\n",
      "mean      242.512600\n",
      "std       118.254153\n",
      "min        40.000000\n",
      "25%       137.000000\n",
      "50%       243.000000\n",
      "75%       346.000000\n",
      "max       449.000000\n",
      "Name: Time Spent, dtype: float64\n"
     ]
    }
   ],
   "source": [
    "# 1. Distribution analysis using describe()\n",
    "target_vars = ['Page Views', 'Time Spent']\n",
    "for var in target_vars:\n",
    "    print(f\"\\n{var}:\")\n",
    "    print(df[var].describe())"
   ]
  },
  {
   "cell_type": "code",
   "execution_count": 17,
   "id": "b9d3e208",
   "metadata": {
    "scrolled": false
   },
   "outputs": [
    {
     "data": {
      "image/png": "[encoded data removed]",
      "text/plain": [
       "<Figure size 1500x1000 with 4 Axes>"
      ]
     },
     "metadata": {},
     "output_type": "display_data"
    }
   ],
   "source": [
    "# 2. Histograms showing actual distributions\n",
    "fig, axes = plt.subplots(2, 2, figsize=(15, 10))\n",
    "\n",
    "# Page Views histogram\n",
    "axes[0,0].hist(df['Page Views'], bins=14, alpha=0.7, color='skyblue', edgecolor='black')\n",
    "axes[0,0].set_title('Page Views Distribution')\n",
    "axes[0,0].set_xlabel('Page Views')\n",
    "axes[0,0].set_ylabel('Frequency')\n",
    "\n",
    "# Time Spent histogram\n",
    "axes[0,1].hist(df['Time Spent'], bins=30, alpha=0.7, color='lightgreen', edgecolor='black')\n",
    "axes[0,1].set_title('Time Spent Distribution')\n",
    "axes[0,1].set_xlabel('Time Spent (seconds)')\n",
    "axes[0,1].set_ylabel('Frequency')\n",
    "\n",
    "# Page Views by Group\n",
    "axes[1,0].hist(df[df['Group']=='A']['Page Views'], bins=14, alpha=0.6, label='Group A')\n",
    "axes[1,0].hist(df[df['Group']=='B']['Page Views'], bins=14, alpha=0.6, label='Group B')\n",
    "axes[1,0].set_title('Page Views by Group')\n",
    "axes[1,0].legend()\n",
    "\n",
    "# Time Spent by Group\n",
    "axes[1,1].hist(df[df['Group']=='A']['Time Spent'], bins=30, alpha=0.6, label='Group A')\n",
    "axes[1,1].hist(df[df['Group']=='B']['Time Spent'], bins=30, alpha=0.6, label='Group B')\n",
    "axes[1,1].set_title('Time Spent by Group')\n",
    "axes[1,1].legend()\n",
    "\n",
    "plt.tight_layout()\n",
    "plt.show()"
   ]
  },
  {
   "cell_type": "markdown",
   "id": "00c8f2fa",
   "metadata": {},
   "source": [
    "Interpretation\n",
    "\n",
    "- Both page views and time spent are roughly symmetric, unimodal, and very similar between groups\n",
    "- The overlapping distributions in both bottom charts suggest that user engagement metrics (Page Views and Time Spent) appear very similar between the white and black backgrounds. This visual pattern indicates that any differences in overall performance might come from other behaviors rather than basic engagement patterns."
   ]
  },
  {
   "cell_type": "code",
   "execution_count": 18,
   "id": "1042c9ab",
   "metadata": {
    "scrolled": true
   },
   "outputs": [
    {
     "name": "stdout",
     "output_type": "stream",
     "text": [
      "Page Views skewness: -0.024\n",
      "Time Spent skewness: 0.005\n"
     ]
    }
   ],
   "source": [
    "# 3. Shape interpretation\n",
    "print(f\"Page Views skewness: {df['Page Views'].skew():.3f}\")\n",
    "print(f\"Time Spent skewness: {df['Time Spent'].skew():.3f}\")"
   ]
  },
  {
   "cell_type": "markdown",
   "id": "eadc702e",
   "metadata": {},
   "source": [
    "### 3.5 Segment Analysis"
   ]
  },
  {
   "cell_type": "code",
   "execution_count": 19,
   "id": "58c29211",
   "metadata": {},
   "outputs": [
    {
     "data": {
      "text/html": [
       "<div>\n",
       "<style scoped>\n",
       "    .dataframe tbody tr th:only-of-type {\n",
       "        vertical-align: middle;\n",
       "    }\n",
       "\n",
       "    .dataframe tbody tr th {\n",
       "        vertical-align: top;\n",
       "    }\n",
       "\n",
       "    .dataframe thead th {\n",
       "        text-align: right;\n",
       "    }\n",
       "</style>\n",
       "<table border=\"1\" class=\"dataframe\">\n",
       "  <thead>\n",
       "    <tr style=\"text-align: right;\">\n",
       "      <th></th>\n",
       "      <th></th>\n",
       "      <th></th>\n",
       "      <th>Conversion_Rate</th>\n",
       "      <th>Page_Views</th>\n",
       "      <th>Time_Spent</th>\n",
       "    </tr>\n",
       "    <tr>\n",
       "      <th>Group</th>\n",
       "      <th>Type</th>\n",
       "      <th>Segment</th>\n",
       "      <th></th>\n",
       "      <th></th>\n",
       "      <th></th>\n",
       "    </tr>\n",
       "  </thead>\n",
       "  <tbody>\n",
       "    <tr>\n",
       "      <th rowspan=\"6\" valign=\"top\">A</th>\n",
       "      <th rowspan=\"2\" valign=\"top\">Device</th>\n",
       "      <th>Mobile</th>\n",
       "      <td>0.049412</td>\n",
       "      <td>7.642353</td>\n",
       "      <td>240.369412</td>\n",
       "    </tr>\n",
       "    <tr>\n",
       "      <th>Desktop</th>\n",
       "      <td>0.058682</td>\n",
       "      <td>7.519293</td>\n",
       "      <td>243.131029</td>\n",
       "    </tr>\n",
       "    <tr>\n",
       "      <th rowspan=\"4\" valign=\"top\">Location</th>\n",
       "      <th>Northern Ireland</th>\n",
       "      <td>0.050489</td>\n",
       "      <td>7.648208</td>\n",
       "      <td>238.661238</td>\n",
       "    </tr>\n",
       "    <tr>\n",
       "      <th>Scotland</th>\n",
       "      <td>0.049254</td>\n",
       "      <td>7.632836</td>\n",
       "      <td>237.970149</td>\n",
       "    </tr>\n",
       "    <tr>\n",
       "      <th>Wales</th>\n",
       "      <td>0.047695</td>\n",
       "      <td>7.453100</td>\n",
       "      <td>248.759936</td>\n",
       "    </tr>\n",
       "    <tr>\n",
       "      <th>England</th>\n",
       "      <td>0.069307</td>\n",
       "      <td>7.590759</td>\n",
       "      <td>241.712871</td>\n",
       "    </tr>\n",
       "    <tr>\n",
       "      <th rowspan=\"6\" valign=\"top\">B</th>\n",
       "      <th rowspan=\"2\" valign=\"top\">Device</th>\n",
       "      <th>Mobile</th>\n",
       "      <td>0.142376</td>\n",
       "      <td>7.440607</td>\n",
       "      <td>243.375737</td>\n",
       "    </tr>\n",
       "    <tr>\n",
       "      <th>Desktop</th>\n",
       "      <td>0.139104</td>\n",
       "      <td>7.540958</td>\n",
       "      <td>243.238022</td>\n",
       "    </tr>\n",
       "    <tr>\n",
       "      <th rowspan=\"4\" valign=\"top\">Location</th>\n",
       "      <th>Northern Ireland</th>\n",
       "      <td>0.114650</td>\n",
       "      <td>7.326433</td>\n",
       "      <td>247.558917</td>\n",
       "    </tr>\n",
       "    <tr>\n",
       "      <th>Scotland</th>\n",
       "      <td>0.150573</td>\n",
       "      <td>7.530278</td>\n",
       "      <td>230.235679</td>\n",
       "    </tr>\n",
       "    <tr>\n",
       "      <th>Wales</th>\n",
       "      <td>0.151163</td>\n",
       "      <td>7.480066</td>\n",
       "      <td>245.161130</td>\n",
       "    </tr>\n",
       "    <tr>\n",
       "      <th>England</th>\n",
       "      <td>0.146875</td>\n",
       "      <td>7.632812</td>\n",
       "      <td>249.857812</td>\n",
       "    </tr>\n",
       "  </tbody>\n",
       "</table>\n",
       "</div>"
      ],
      "text/plain": [
       "                                 Conversion_Rate  Page_Views  Time_Spent\n",
       "Group Type     Segment                                                  \n",
       "A     Device   Mobile                   0.049412    7.642353  240.369412\n",
       "               Desktop                  0.058682    7.519293  243.131029\n",
       "      Location Northern Ireland         0.050489    7.648208  238.661238\n",
       "               Scotland                 0.049254    7.632836  237.970149\n",
       "               Wales                    0.047695    7.453100  248.759936\n",
       "               England                  0.069307    7.590759  241.712871\n",
       "B     Device   Mobile                   0.142376    7.440607  243.375737\n",
       "               Desktop                  0.139104    7.540958  243.238022\n",
       "      Location Northern Ireland         0.114650    7.326433  247.558917\n",
       "               Scotland                 0.150573    7.530278  230.235679\n",
       "               Wales                    0.151163    7.480066  245.161130\n",
       "               England                  0.146875    7.632812  249.857812"
      ]
     },
     "execution_count": 19,
     "metadata": {},
     "output_type": "execute_result"
    }
   ],
   "source": [
    "# Create conversion rate analysis\n",
    "conv_data = []\n",
    "pv_data = []\n",
    "ts_data = []\n",
    "\n",
    "for group in ['A', 'B']:\n",
    "    # Device analysis for this group\n",
    "    for device in df['Device'].unique():\n",
    "        subset = df[(df['Group'] == group) & (df['Device'] == device)]\n",
    "        conv_data.append([group, 'Device', device, (subset['Conversion'] == 'Yes').mean()])\n",
    "        pv_data.append([group, 'Device', device, subset['Page Views'].mean()])\n",
    "        ts_data.append([group, 'Device', device, subset['Time Spent'].mean()])\n",
    "    \n",
    "    # Location analysis for this group  \n",
    "    for location in df['Location'].unique():\n",
    "        subset = df[(df['Group'] == group) & (df['Location'] == location)]\n",
    "        conv_data.append([group, 'Location', location, (subset['Conversion'] == 'Yes').mean()])\n",
    "        pv_data.append([group, 'Location', location, subset['Page Views'].mean()])\n",
    "        ts_data.append([group, 'Location', location, subset['Time Spent'].mean()])\n",
    "\n",
    "# Create DataFrames with hierarchical structure\n",
    "conv_df = pd.DataFrame(conv_data, columns=['Group', 'Type', 'Segment', 'Conversion_Rate'])\n",
    "pv_df = pd.DataFrame(pv_data, columns=['Group', 'Type', 'Segment', 'Page_Views']) \n",
    "ts_df = pd.DataFrame(ts_data, columns=['Group', 'Type', 'Segment', 'Time_Spent'])\n",
    "\n",
    "# Merge all metrics\n",
    "segment_analysis = conv_df.merge(pv_df, on=['Group', 'Type', 'Segment']).merge(ts_df, on=['Group', 'Type', 'Segment'])\n",
    "\n",
    "# Set hierarchical index\n",
    "segment_analysis = segment_analysis.set_index(['Group', 'Type', 'Segment'])\n",
    "segment_analysis"
   ]
  },
  {
   "cell_type": "code",
   "execution_count": 20,
   "id": "557a3f73",
   "metadata": {
    "scrolled": false
   },
   "outputs": [
    {
     "data": {
      "image/png": "[encoded data removed]",
      "text/plain": [
       "<Figure size 1400x600 with 1 Axes>"
      ]
     },
     "metadata": {},
     "output_type": "display_data"
    }
   ],
   "source": [
    "# 1. Grouped Bar Chart for Conversion Rates\n",
    "plt.figure(figsize=(14, 6))\n",
    "\n",
    "# Reset index and sort properly\n",
    "plot_data = segment_analysis.reset_index()\n",
    "plot_data = plot_data.sort_values(['Group', 'Type', 'Segment'])\n",
    "\n",
    "# Create the bar chart with proper data order\n",
    "x_pos = range(len(plot_data))\n",
    "colors = ['skyblue' if group == 'A' else 'orange' for group in plot_data['Group']]\n",
    "\n",
    "plt.bar(x_pos, plot_data['Conversion_Rate'], color=colors)\n",
    "plt.title('Conversion Rates by Group and Segment')\n",
    "plt.ylabel('Conversion Rate')\n",
    "plt.xticks(x_pos, [f\"{row['Group']}-{row['Segment']}\" for _, row in plot_data.iterrows()], rotation=45)\n",
    "plt.tight_layout()\n",
    "plt.show()"
   ]
  },
  {
   "cell_type": "markdown",
   "id": "b1858c71",
   "metadata": {},
   "source": [
    "Interpretation\n",
    "\n",
    "- Light blue bars (Group A - White background): All show low conversion rates between 4.7%-6.9%\n",
    "- Orange bars (Group B - Black background): All show high conversion rates between 11.5%-15.1%\n",
    "- Group B outperforms Group A across every single segment"
   ]
  },
  {
   "cell_type": "code",
   "execution_count": 21,
   "id": "a06cc047",
   "metadata": {},
   "outputs": [
    {
     "data": {
      "image/png": "[encoded data removed]",
      "text/plain": [
       "<Figure size 1800x800 with 6 Axes>"
      ]
     },
     "metadata": {},
     "output_type": "display_data"
    }
   ],
   "source": [
    "# 2. Heatmap visualization\n",
    "fig, axes = plt.subplots(1, 3, figsize=(18, 8))\n",
    "\n",
    "# Prepare data for heatmap\n",
    "heatmap_data = plot_data.pivot_table(values=['Conversion_Rate', 'Page_Views', 'Time_Spent'],\n",
    "                                     index=['Type', 'Segment'], \n",
    "                                     columns='Group')\n",
    "\n",
    "# Conversion Rate heatmap\n",
    "conv_heatmap = heatmap_data['Conversion_Rate']\n",
    "sns.heatmap(conv_heatmap, annot=True, fmt='.3f', ax=axes[0], cmap='coolwarm')\n",
    "axes[0].set_title('Conversion Rate')\n",
    "\n",
    "# Page Views heatmap  \n",
    "pv_heatmap = heatmap_data['Page_Views']\n",
    "sns.heatmap(pv_heatmap, annot=True, fmt='.1f', ax=axes[1], cmap='coolwarm')\n",
    "axes[1].set_title('Page Views')\n",
    "\n",
    "# Time Spent heatmap\n",
    "ts_heatmap = heatmap_data['Time_Spent'] \n",
    "sns.heatmap(ts_heatmap, annot=True, fmt='.0f', ax=axes[2], cmap='coolwarm')\n",
    "axes[2].set_title('Time Spent')\n",
    "\n",
    "plt.tight_layout()\n",
    "plt.show()"
   ]
  },
  {
   "cell_type": "markdown",
   "id": "2cc73bfc",
   "metadata": {},
   "source": [
    "Interpretation\n",
    "\n",
    "The heatmaps show strong contrast in conversion rates between groups (blue vs red patterns) while page views and time spent show minimal systematic differences, indicating the background color effect is isolated to conversion behavior."
   ]
  },
  {
   "cell_type": "code",
   "execution_count": 22,
   "id": "d3494029",
   "metadata": {
    "scrolled": false
   },
   "outputs": [
    {
     "data": {
      "image/png": "[encoded data removed]",
      "text/plain": [
       "<Figure size 1000x600 with 1 Axes>"
      ]
     },
     "metadata": {},
     "output_type": "display_data"
    }
   ],
   "source": [
    "# 3. Treatment Effect Visualization\n",
    "treatment_effects = heatmap_data.loc[:, ('Conversion_Rate', 'B')] - heatmap_data.loc[:, ('Conversion_Rate', 'A')]\n",
    "\n",
    "plt.figure(figsize=(10, 6))\n",
    "treatment_effects.plot(kind='bar', color='green', alpha=0.7)\n",
    "plt.title('Treatment Effect (Group B - Group A) by Segment')\n",
    "plt.ylabel('Conversion Rate Difference')\n",
    "plt.axhline(y=0, color='black', linestyle='--', alpha=0.5)\n",
    "plt.xticks(rotation=45)\n",
    "plt.tight_layout()\n",
    "plt.show()"
   ]
  },
  {
   "cell_type": "markdown",
   "id": "d93b4a2b",
   "metadata": {},
   "source": [
    "Interpretation\n",
    "\n",
    "This chart shows the difference in conversion rates (Group B minus Group A) for each segment. The black background consistently improves conversion rates by 6-10 percentage points across all segments, with no segment showing neutral or negative effects, confirming the treatment works universally."
   ]
  },
  {
   "cell_type": "markdown",
   "id": "bc7c2a57",
   "metadata": {},
   "source": [
    "## 4. Statistical Analysis"
   ]
  },
  {
   "cell_type": "markdown",
   "id": "b0f758f0",
   "metadata": {},
   "source": [
    "### 4.1 Descriptive Statistics by Group"
   ]
  },
  {
   "cell_type": "code",
   "execution_count": 23,
   "id": "a398f60a",
   "metadata": {},
   "outputs": [
    {
     "data": {
      "text/html": [
       "<div>\n",
       "<style scoped>\n",
       "    .dataframe tbody tr th:only-of-type {\n",
       "        vertical-align: middle;\n",
       "    }\n",
       "\n",
       "    .dataframe tbody tr th {\n",
       "        vertical-align: top;\n",
       "    }\n",
       "\n",
       "    .dataframe thead th {\n",
       "        text-align: right;\n",
       "    }\n",
       "</style>\n",
       "<table border=\"1\" class=\"dataframe\">\n",
       "  <thead>\n",
       "    <tr style=\"text-align: right;\">\n",
       "      <th></th>\n",
       "      <th>count</th>\n",
       "      <th>mean</th>\n",
       "      <th>std</th>\n",
       "      <th>min</th>\n",
       "      <th>25%</th>\n",
       "      <th>50%</th>\n",
       "      <th>75%</th>\n",
       "      <th>max</th>\n",
       "    </tr>\n",
       "    <tr>\n",
       "      <th>Group</th>\n",
       "      <th></th>\n",
       "      <th></th>\n",
       "      <th></th>\n",
       "      <th></th>\n",
       "      <th></th>\n",
       "      <th></th>\n",
       "      <th></th>\n",
       "      <th></th>\n",
       "    </tr>\n",
       "  </thead>\n",
       "  <tbody>\n",
       "    <tr>\n",
       "      <th>A</th>\n",
       "      <td>2519.0</td>\n",
       "      <td>7.581580</td>\n",
       "      <td>4.080066</td>\n",
       "      <td>1.0</td>\n",
       "      <td>4.0</td>\n",
       "      <td>8.0</td>\n",
       "      <td>11.0</td>\n",
       "      <td>14.0</td>\n",
       "    </tr>\n",
       "    <tr>\n",
       "      <th>B</th>\n",
       "      <td>2481.0</td>\n",
       "      <td>7.492946</td>\n",
       "      <td>3.963448</td>\n",
       "      <td>1.0</td>\n",
       "      <td>4.0</td>\n",
       "      <td>8.0</td>\n",
       "      <td>11.0</td>\n",
       "      <td>14.0</td>\n",
       "    </tr>\n",
       "  </tbody>\n",
       "</table>\n",
       "</div>"
      ],
      "text/plain": [
       "        count      mean       std  min  25%  50%   75%   max\n",
       "Group                                                       \n",
       "A      2519.0  7.581580  4.080066  1.0  4.0  8.0  11.0  14.0\n",
       "B      2481.0  7.492946  3.963448  1.0  4.0  8.0  11.0  14.0"
      ]
     },
     "execution_count": 23,
     "metadata": {},
     "output_type": "execute_result"
    }
   ],
   "source": [
    "# Page Views by group\n",
    "df.groupby('Group')['Page Views'].describe()"
   ]
  },
  {
   "cell_type": "code",
   "execution_count": 24,
   "id": "590b649c",
   "metadata": {},
   "outputs": [
    {
     "data": {
      "text/html": [
       "<div>\n",
       "<style scoped>\n",
       "    .dataframe tbody tr th:only-of-type {\n",
       "        vertical-align: middle;\n",
       "    }\n",
       "\n",
       "    .dataframe tbody tr th {\n",
       "        vertical-align: top;\n",
       "    }\n",
       "\n",
       "    .dataframe thead th {\n",
       "        text-align: right;\n",
       "    }\n",
       "</style>\n",
       "<table border=\"1\" class=\"dataframe\">\n",
       "  <thead>\n",
       "    <tr style=\"text-align: right;\">\n",
       "      <th></th>\n",
       "      <th>count</th>\n",
       "      <th>mean</th>\n",
       "      <th>std</th>\n",
       "      <th>min</th>\n",
       "      <th>25%</th>\n",
       "      <th>50%</th>\n",
       "      <th>75%</th>\n",
       "      <th>max</th>\n",
       "    </tr>\n",
       "    <tr>\n",
       "      <th>Group</th>\n",
       "      <th></th>\n",
       "      <th></th>\n",
       "      <th></th>\n",
       "      <th></th>\n",
       "      <th></th>\n",
       "      <th></th>\n",
       "      <th></th>\n",
       "      <th></th>\n",
       "    </tr>\n",
       "  </thead>\n",
       "  <tbody>\n",
       "    <tr>\n",
       "      <th>A</th>\n",
       "      <td>2519.0</td>\n",
       "      <td>241.733227</td>\n",
       "      <td>117.340026</td>\n",
       "      <td>40.0</td>\n",
       "      <td>137.5</td>\n",
       "      <td>241.0</td>\n",
       "      <td>343.0</td>\n",
       "      <td>449.0</td>\n",
       "    </tr>\n",
       "    <tr>\n",
       "      <th>B</th>\n",
       "      <td>2481.0</td>\n",
       "      <td>243.303910</td>\n",
       "      <td>119.193552</td>\n",
       "      <td>40.0</td>\n",
       "      <td>136.0</td>\n",
       "      <td>244.0</td>\n",
       "      <td>348.0</td>\n",
       "      <td>449.0</td>\n",
       "    </tr>\n",
       "  </tbody>\n",
       "</table>\n",
       "</div>"
      ],
      "text/plain": [
       "        count        mean         std   min    25%    50%    75%    max\n",
       "Group                                                                  \n",
       "A      2519.0  241.733227  117.340026  40.0  137.5  241.0  343.0  449.0\n",
       "B      2481.0  243.303910  119.193552  40.0  136.0  244.0  348.0  449.0"
      ]
     },
     "execution_count": 24,
     "metadata": {},
     "output_type": "execute_result"
    }
   ],
   "source": [
    "# Time Spent by group  \n",
    "df.groupby('Group')['Time Spent'].describe()"
   ]
  },
  {
   "cell_type": "code",
   "execution_count": 25,
   "id": "730cee3b",
   "metadata": {},
   "outputs": [
    {
     "name": "stdout",
     "output_type": "stream",
     "text": [
      "Group\n",
      "A    0.053990\n",
      "B    0.140669\n",
      "Name: Conversion, dtype: float64\n"
     ]
    }
   ],
   "source": [
    "# Conversion rates\n",
    "conversion_rates = df.groupby('Group')['Conversion'].apply(lambda x: (x == 'Yes').mean())\n",
    "print(conversion_rates)"
   ]
  },
  {
   "cell_type": "markdown",
   "id": "e8883b29",
   "metadata": {},
   "source": [
    "### 4.2 Hypothesis Testing Setup"
   ]
  },
  {
   "cell_type": "markdown",
   "id": "63434b5a",
   "metadata": {},
   "source": [
    "Define hypotheses for each metric\n",
    "\n",
    "1. CONVERSION RATE:\n",
    "- **H0 (Null Hypothesis):** Conversion rate Group A = Conversion rate Group B\n",
    "- **H1 (Alternative Hypothesis):** Conversion rate Group B > Conversion rate Group A\n",
    "- **Test Type:** One-tailed test (Expect Group B to perform better)\n",
    "\n",
    "2. PAGE VIEWS:\n",
    "- **H0 (Null Hypothesis):** Mean page views Group A = Mean page views Group B\n",
    "- **H1 (Alternative Hypothesis):** Mean page views Group B ≠ Mean page views Group A\n",
    "- **Test Type:** Two-tailed test (Testing for any difference)\n",
    "\n",
    "3. TIME SPENT:\n",
    "- **H0 (Null Hypothesis):** Mean time spent Group A = Mean time spent Group B\n",
    "- **H1 (Alternative Hypothesis):** Mean time spent Group B ≠ Mean time spent Group A\n",
    "- **Test Type:** Two-tailed test (Testing for any difference)\n",
    "\n",
    "Test Parameters:\n",
    "- **Significance level:** α = 0.05\n",
    "- **Confidence level:** 95%"
   ]
  },
  {
   "cell_type": "markdown",
   "id": "09fa98a6",
   "metadata": {},
   "source": [
    "### 4.3 Statistical Tests"
   ]
  },
  {
   "cell_type": "code",
   "execution_count": 26,
   "id": "624ce57d",
   "metadata": {},
   "outputs": [],
   "source": [
    "# Separate data by groups for testing\n",
    "group_a = df[df['Group'] == 'A']\n",
    "group_b = df[df['Group'] == 'B']"
   ]
  },
  {
   "cell_type": "code",
   "execution_count": 27,
   "id": "be67d937",
   "metadata": {},
   "outputs": [
    {
     "name": "stdout",
     "output_type": "stream",
     "text": [
      "Group A: 136 conversions out of 2519 users (0.0540)\n",
      "Group B: 349 conversions out of 2481 users (0.1407)\n"
     ]
    }
   ],
   "source": [
    "# 1. Conversion Rate Test \n",
    "\n",
    "# Get conversion data\n",
    "conv_a = (group_a['Conversion'] == 'Yes').sum()\n",
    "conv_b = (group_b['Conversion'] == 'Yes').sum()\n",
    "n_a = len(group_a)\n",
    "n_b = len(group_b)\n",
    "\n",
    "print(f\"Group A: {conv_a} conversions out of {n_a} users ({conv_a/n_a:.4f})\")\n",
    "print(f\"Group B: {conv_b} conversions out of {n_b} users ({conv_b/n_b:.4f})\")"
   ]
  },
  {
   "cell_type": "code",
   "execution_count": 28,
   "id": "45f3c978",
   "metadata": {},
   "outputs": [
    {
     "name": "stdout",
     "output_type": "stream",
     "text": [
      "Z-statistic: 10.3545\n",
      "P-value: 0.000000\n",
      "SIGNIFICANT: Group B has significantly higher conversion rate!\n"
     ]
    }
   ],
   "source": [
    "# Z-test (one-tailed: Group B > Group A)\n",
    "z_stat, p_value = proportions_ztest([conv_b, conv_a], [n_b, n_a], alternative='larger')\n",
    "\n",
    "print(f\"Z-statistic: {z_stat:.4f}\")\n",
    "print(f\"P-value: {p_value:.6f}\")\n",
    "\n",
    "if p_value < 0.05:\n",
    "    print(\"SIGNIFICANT: Group B has significantly higher conversion rate!\")\n",
    "else:\n",
    "    print(\"NOT SIGNIFICANT: No significant difference\")"
   ]
  },
  {
   "cell_type": "code",
   "execution_count": 29,
   "id": "217012dd",
   "metadata": {},
   "outputs": [
    {
     "name": "stdout",
     "output_type": "stream",
     "text": [
      "Cohen's h: 0.300\n",
      "Effect size interpretation: medium\n"
     ]
    }
   ],
   "source": [
    "# Cohen's h for conversion rate difference\n",
    "\n",
    "# Proportions\n",
    "p1 = conv_a / n_a  # Group A\n",
    "p2 = conv_b / n_b  # Group B\n",
    "\n",
    "# Cohen's h formula\n",
    "h = 2 * (np.arcsin(np.sqrt(p2)) - np.arcsin(np.sqrt(p1)))\n",
    "print(f\"Cohen's h: {h:.3f}\")\n",
    "\n",
    "# Interpretation\n",
    "if abs(h) < 0.2:\n",
    "    effect_size = \"small\"\n",
    "elif abs(h) < 0.5:\n",
    "    effect_size = \"medium\"\n",
    "else:\n",
    "    effect_size = \"large\"\n",
    "\n",
    "print(f\"Effect size interpretation: {effect_size}\")"
   ]
  },
  {
   "cell_type": "markdown",
   "id": "77bd7084",
   "metadata": {},
   "source": [
    "The medium effect size (Cohen’s h = 0.30) indicates that the black background has a meaningful impact on conversion rates, beyond just being statistically significant. It shows the difference is not only detectable but also practically relevant."
   ]
  },
  {
   "cell_type": "code",
   "execution_count": 30,
   "id": "08533b82",
   "metadata": {},
   "outputs": [
    {
     "name": "stdout",
     "output_type": "stream",
     "text": [
      "Group A: 0.000000\n",
      "Group B: 0.000000\n"
     ]
    }
   ],
   "source": [
    "# 2. Page Views Test \n",
    "\n",
    "# Check normality first (Shapiro-Wilk test)\n",
    "stat_a_pv, p_norm_a_pv = shapiro(group_a['Page Views'])\n",
    "stat_b_pv, p_norm_b_pv = shapiro(group_b['Page Views'])\n",
    "print(f\"Group A: {p_norm_a_pv:.6f}\")\n",
    "print(f\"Group B: {p_norm_b_pv:.6f}\")"
   ]
  },
  {
   "cell_type": "markdown",
   "id": "92e67f16",
   "metadata": {},
   "source": [
    "Data not normally distributed - using Mann-Whitney U test"
   ]
  },
  {
   "cell_type": "code",
   "execution_count": 31,
   "id": "dc10ad93",
   "metadata": {},
   "outputs": [
    {
     "name": "stdout",
     "output_type": "stream",
     "text": [
      "Test statistic: 3084181.0000\n",
      "P-value: 0.424678\n",
      "NO significant difference in Page Views\n"
     ]
    }
   ],
   "source": [
    "# Mann-Whitney U test (non-parametric alternative to t-test)\n",
    "stat, p_value_pv = mannwhitneyu(group_b['Page Views'], group_a['Page Views'], alternative='two-sided')\n",
    "\n",
    "print(f\"Test statistic: {stat:.4f}\")\n",
    "print(f\"P-value: {p_value_pv:.6f}\")\n",
    "if p_value_pv < 0.05:\n",
    "    print(\"SIGNIFICANT difference in Page Views\")\n",
    "else:\n",
    "    print(\"NO significant difference in Page Views\")"
   ]
  },
  {
   "cell_type": "code",
   "execution_count": 32,
   "id": "c1f79b80",
   "metadata": {
    "scrolled": true
   },
   "outputs": [
    {
     "name": "stdout",
     "output_type": "stream",
     "text": [
      "Group A median: 8.0\n",
      "Group B median: 8.0\n",
      "Group A mean: 7.58\n",
      "Group B mean: 7.49\n"
     ]
    }
   ],
   "source": [
    "# Calculate effect size (for interpretation)\n",
    "print(f\"Group A median: {group_a['Page Views'].median()}\")\n",
    "print(f\"Group B median: {group_b['Page Views'].median()}\")\n",
    "print(f\"Group A mean: {group_a['Page Views'].mean():.2f}\")\n",
    "print(f\"Group B mean: {group_b['Page Views'].mean():.2f}\")"
   ]
  },
  {
   "cell_type": "code",
   "execution_count": 33,
   "id": "65035df7",
   "metadata": {},
   "outputs": [
    {
     "name": "stdout",
     "output_type": "stream",
     "text": [
      "Group A: 0.000000\n",
      "Group B: 0.000000\n"
     ]
    }
   ],
   "source": [
    "# 3. Time Spent Test\n",
    "\n",
    "# Check normality for Time Spent\n",
    "stat_a_ts, p_norm_a_ts = shapiro(group_a['Time Spent'])\n",
    "stat_b_ts, p_norm_b_ts = shapiro(group_b['Time Spent'])\n",
    "print(f\"Group A: {p_norm_a_ts:.6f}\")\n",
    "print(f\"Group B: {p_norm_b_ts:.6f}\")"
   ]
  },
  {
   "cell_type": "markdown",
   "id": "3d2c37fe",
   "metadata": {},
   "source": [
    "Data not normally distributed - using Mann-Whitney U test"
   ]
  },
  {
   "cell_type": "code",
   "execution_count": 34,
   "id": "05e1ec16",
   "metadata": {},
   "outputs": [
    {
     "name": "stdout",
     "output_type": "stream",
     "text": [
      "\n",
      "Mann-Whitney U test results:\n",
      "Test statistic: 3148544.0000\n",
      "P-value: 0.642030\n",
      "NO significant difference in Time Spent\n"
     ]
    }
   ],
   "source": [
    "# Mann-Whitney U test for Time Spent\n",
    "stat_ts, p_value_ts = mannwhitneyu(group_b['Time Spent'], group_a['Time Spent'], alternative='two-sided')\n",
    "\n",
    "print(f\"\\nMann-Whitney U test results:\")\n",
    "print(f\"Test statistic: {stat_ts:.4f}\")\n",
    "print(f\"P-value: {p_value_ts:.6f}\")\n",
    "\n",
    "if p_value_ts < 0.05:\n",
    "    print(\"SIGNIFICANT difference in Time Spent\")\n",
    "else:\n",
    "    print(\"NO significant difference in Time Spent\")"
   ]
  },
  {
   "cell_type": "code",
   "execution_count": 35,
   "id": "7ab2537e",
   "metadata": {},
   "outputs": [
    {
     "name": "stdout",
     "output_type": "stream",
     "text": [
      "Group A median: 241.0\n",
      "Group B median: 244.0\n",
      "Group A mean: 241.73\n",
      "Group B mean: 243.30\n"
     ]
    }
   ],
   "source": [
    "# Descriptive statistics\n",
    "print(f\"Group A median: {group_a['Time Spent'].median()}\")\n",
    "print(f\"Group B median: {group_b['Time Spent'].median()}\")\n",
    "print(f\"Group A mean: {group_a['Time Spent'].mean():.2f}\")\n",
    "print(f\"Group B mean: {group_b['Time Spent'].mean():.2f}\")"
   ]
  },
  {
   "cell_type": "markdown",
   "id": "cff217b0",
   "metadata": {},
   "source": [
    "### 4.4 Statistical Testing Summary"
   ]
  },
  {
   "cell_type": "markdown",
   "id": "98ae9c43",
   "metadata": {},
   "source": [
    "KEY FINDINGS SUMMARY:\n",
    "\n",
    "- Conversion Rate: Highly significant improvement (p < 0.001)\n",
    "- Page Views: No significant difference (p = 0.425) \n",
    "- Time Spent: No significant difference (p = 0.642)\n",
    "\n",
    "Conclusion: Black background affects conversion behavior only"
   ]
  },
  {
   "cell_type": "markdown",
   "id": "563744e6",
   "metadata": {},
   "source": [
    "## 5. Business Impact Analysis"
   ]
  },
  {
   "cell_type": "markdown",
   "id": "c8da7b5a",
   "metadata": {},
   "source": [
    "### 5.1 Effect Size and Practical Significance"
   ]
  },
  {
   "cell_type": "code",
   "execution_count": 36,
   "id": "f0c5e024",
   "metadata": {},
   "outputs": [
    {
     "name": "stdout",
     "output_type": "stream",
     "text": [
      "Conversion Rate Confidence Intervals (95%):\n",
      "Group A: 0.0452 to 0.0628\n",
      "Group B: 0.1270 to 0.1543\n"
     ]
    }
   ],
   "source": [
    "# Calculate confidence intervals for conversion rates\n",
    "ci_a_lower, ci_a_upper = proportion_confint(conv_a, n_a, alpha=0.05)\n",
    "ci_b_lower, ci_b_upper = proportion_confint(conv_b, n_b, alpha=0.05)\n",
    "print(f\"Conversion Rate Confidence Intervals (95%):\")\n",
    "print(f\"Group A: {ci_a_lower:.4f} to {ci_a_upper:.4f}\")\n",
    "print(f\"Group B: {ci_b_lower:.4f} to {ci_b_upper:.4f}\")"
   ]
  },
  {
   "cell_type": "code",
   "execution_count": 37,
   "id": "9edb5849",
   "metadata": {},
   "outputs": [
    {
     "name": "stdout",
     "output_type": "stream",
     "text": [
      "Absolute improvement: +0.0867 (8.67 percentage points)\n"
     ]
    }
   ],
   "source": [
    "# Calculate absolute improvement\n",
    "abs_improvement = (conv_b/n_b) - (conv_a/n_a)\n",
    "print(f\"Absolute improvement: +{abs_improvement:.4f} ({abs_improvement*100:.2f} percentage points)\")"
   ]
  },
  {
   "cell_type": "code",
   "execution_count": 38,
   "id": "43051377",
   "metadata": {},
   "outputs": [
    {
     "name": "stdout",
     "output_type": "stream",
     "text": [
      "Potential Business Impact:\n",
      "If you have 10,000 monthly visitors:\n",
      "- Current (White): 540 conversions\n",
      "- New (Black): 1407 conversions\n",
      "- Additional conversions: 867 per month\n"
     ]
    }
   ],
   "source": [
    "# Calculate potential business impact\n",
    "print(f\"Potential Business Impact:\")\n",
    "print(f\"If you have 10,000 monthly visitors:\")\n",
    "print(f\"- Current (White): {10000 * (conv_a/n_a):.0f} conversions\")\n",
    "print(f\"- New (Black): {10000 * (conv_b/n_b):.0f} conversions\")\n",
    "print(f\"- Additional conversions: {10000 * abs_improvement:.0f} per month\")"
   ]
  },
  {
   "cell_type": "code",
   "execution_count": 39,
   "id": "b739fa51",
   "metadata": {
    "scrolled": true
   },
   "outputs": [
    {
     "name": "stdout",
     "output_type": "stream",
     "text": [
      "Number Needed to Expose: 12\n",
      "(For every 12 users shown the black background, you get 1 additional conversion)\n"
     ]
    }
   ],
   "source": [
    "# Number needed to treat (marketing equivalent)\n",
    "nnt = 1 / abs_improvement\n",
    "print(f\"Number Needed to Expose: {nnt:.0f}\")\n",
    "print(f\"(For every {nnt:.0f} users shown the black background, you get 1 additional conversion)\")"
   ]
  },
  {
   "cell_type": "markdown",
   "id": "60d67e92",
   "metadata": {},
   "source": [
    "## 6. Conclusions and Recommendations"
   ]
  },
  {
   "cell_type": "markdown",
   "id": "8b9cf607",
   "metadata": {},
   "source": [
    "**STATISTICAL FINDINGS:**\n",
    "\n",
    "Conversion Rate: Highly significant difference (p < 0.001)\n",
    "\n",
    "Page Views: No significant difference (p = 0.425)\n",
    "\n",
    "Time Spent: No significant difference (p = 0.642)\n",
    "\n",
    "**BUSINESS INTERPRETATION:**\n",
    "\n",
    "- Black background improves conversion without affecting engagement\n",
    "- Users spend same time and view same pages regardless of color\n",
    "- The effect is isolated to conversion behavior only\n",
    "\n",
    "**LIMITATIONS:**\n",
    "\n",
    "- Synthetic dataset with unrealistically large effects\n",
    "- Real-world improvements typically much smaller\n",
    "- Additional validation needed before implementation\n",
    "\n",
    "**RECOMMENDATIONS:**\n",
    "\n",
    "1. In real scenarios, run tests for longer periods\n",
    "2. Always validate with additional experiments\n",
    "3. Consider segmentation analysis by device/location\n",
    "4. For implementation:\n",
    " - Start with pilot test on smaller user segment\n",
    " - Monitor additional metrics (bounce rate, revenue)\n",
    " - Expect more modest improvements in real-world scenarios\n",
    " \n",
    "**FUTURE ANALYSIS SUGGESTIONS:**\n",
    "\n",
    "- Analyze performance by device type (Mobile vs Desktop)\n",
    "- Check for regional differences across UK locations\n",
    "- Consider interaction effects between background color and user segments"
   ]
  },
  {
   "cell_type": "code",
   "execution_count": null,
   "id": "360abe84",
   "metadata": {},
   "outputs": [],
   "source": []
  }
 ],
 "metadata": {
  "kernelspec": {
   "display_name": "Python 3 (ipykernel)",
   "language": "python",
   "name": "python3"
  },
  "language_info": {
   "codemirror_mode": {
    "name": "ipython",
    "version": 3
   },
   "file_extension": ".py",
   "mimetype": "text/x-python",
   "name": "python",
   "nbconvert_exporter": "python",
   "pygments_lexer": "ipython3",
   "version": "3.9.19"
  }
 },
 "nbformat": 4,
 "nbformat_minor": 5
}
